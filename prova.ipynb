{
 "cells": [
  {
   "cell_type": "code",
   "execution_count": 1,
   "metadata": {},
   "outputs": [
    {
     "name": "stdout",
     "output_type": "stream",
     "text": [
      "   median_col2\n",
      "0          2.5\n",
      "1          2.0\n"
     ]
    }
   ],
   "source": [
    "import pandas as pd\n",
    "import numpy as np\n",
    "\n",
    "# Definisci i dati\n",
    "data = {'col1': ['a', np.nan, np.nan, 'b', np.nan, np.nan, np.nan, 'a', np.nan, np.nan, 'c'],\n",
    "        'col2': [2, 3, 2, 3, 2, 2, 2, 1, 2, 2, 2]}\n",
    "\n",
    "# Crea il dataframe\n",
    "df = pd.DataFrame(data)\n",
    "\n",
    "# Trova gli indici in cui 'col1' non è nullo\n",
    "non_null_indices = df['col1'].notnull()\n",
    "\n",
    "# Inizializza le liste per i risultati\n",
    "medians = []\n",
    "start_index = None\n",
    "\n",
    "# Itera attraverso gli indici non nulli\n",
    "for i, not_null in enumerate(non_null_indices):\n",
    "    if not_null:\n",
    "        # Se è il primo valore non nullo, salva l'indice di partenza\n",
    "        if start_index is None:\n",
    "            start_index = i\n",
    "        else:\n",
    "            # Se è il secondo valore non nullo, calcola la media di 'col2' tra i due valori non nulli\n",
    "            end_index = i\n",
    "            subset = df.loc[start_index:end_index, 'col2']\n",
    "            median_value = np.median(subset)\n",
    "            medians.append(median_value)\n",
    "            # Resetta l'indice di partenza per il prossimo intervallo\n",
    "            start_index = None\n",
    "\n",
    "# Crea un nuovo dataframe con le mediane calcolate\n",
    "result_data = {'median_col2': medians}\n",
    "result_df = pd.DataFrame(result_data)\n",
    "\n",
    "# Stampa il dataframe dei risultati\n",
    "print(result_df)"
   ]
  },
  {
   "cell_type": "code",
   "execution_count": 2,
   "metadata": {},
   "outputs": [
    {
     "name": "stdout",
     "output_type": "stream",
     "text": [
      "  col1  median_col2\n",
      "0    a          2.5\n",
      "1    a          2.0\n"
     ]
    }
   ],
   "source": [
    "import pandas as pd\n",
    "import numpy as np\n",
    "\n",
    "# Definisci i dati\n",
    "data = {'col1': ['a', np.nan, np.nan, 'b', np.nan, np.nan, np.nan, 'a', np.nan, np.nan, 'c'],\n",
    "        'col2': [2, 3, 2, 3, 2, 2, 2, 1, 2, 2, 2]}\n",
    "\n",
    "# Crea il dataframe\n",
    "df = pd.DataFrame(data)\n",
    "\n",
    "# Trova gli indici in cui 'col1' non è nullo\n",
    "non_null_indices = df['col1'].notnull()\n",
    "\n",
    "# Inizializza le liste per i risultati\n",
    "names = []\n",
    "medians = []\n",
    "start_index = None\n",
    "\n",
    "# Itera attraverso gli indici non nulli\n",
    "for i, not_null in enumerate(non_null_indices):\n",
    "    if not_null:\n",
    "        # Se è il primo valore non nullo, salva l'indice di partenza\n",
    "        if start_index is None:\n",
    "            start_index = i\n",
    "        else:\n",
    "            # Se è il secondo valore non nullo, calcola la media di 'col2' tra i due valori non nulli\n",
    "            end_index = i\n",
    "            subset = df.loc[start_index:end_index, 'col2']\n",
    "            median_value = np.median(subset)\n",
    "            # Aggiungi il nome e la mediana alle liste\n",
    "            names.append(df.loc[start_index, 'col1'])\n",
    "            medians.append(median_value)\n",
    "            # Resetta l'indice di partenza per il prossimo intervallo\n",
    "            start_index = None\n",
    "\n",
    "# Crea un nuovo dataframe con i nomi e le mediane calcolate\n",
    "result_data = {'col1': names, 'median_col2': medians}\n",
    "result_df = pd.DataFrame(result_data)\n",
    "\n",
    "# Stampa il dataframe dei risultati\n",
    "print(result_df)"
   ]
  },
  {
   "cell_type": "code",
   "execution_count": 3,
   "metadata": {},
   "outputs": [
    {
     "name": "stdout",
     "output_type": "stream",
     "text": [
      "    col1  col2  media_col2\n",
      "0      a     2         2.0\n",
      "1   None     3         NaN\n",
      "2   None     2         NaN\n",
      "3      b     3         2.0\n",
      "4   None     2         NaN\n",
      "5   None     2         NaN\n",
      "6   None     2         NaN\n",
      "7      a     1         2.0\n",
      "8   None     2         NaN\n",
      "9   None     2         NaN\n",
      "10     c     2         2.0\n"
     ]
    }
   ],
   "source": [
    "import pandas as pd\n",
    "import numpy as np\n",
    "\n",
    "# Definisci le colonne\n",
    "col1 = ['a', None, None, 'b', None, None, None, 'a', None, None, 'c']\n",
    "col2 = [2, 3, 2, 3, 2, 2, 2, 1, 2, 2, 2]\n",
    "\n",
    "# Crea il dataframe\n",
    "df = pd.DataFrame({'col1': col1, 'col2': col2})\n",
    "\n",
    "# Aggiungi una colonna per la media tra valori non nulli di col1\n",
    "df['media_col2'] = df.apply(lambda row: np.nan if row['col1'] is None else np.nanmean(df.loc[df['col1'].notnull(), 'col2']), axis=1)\n",
    "\n",
    "# Visualizza il dataframe risultante\n",
    "print(df)"
   ]
  },
  {
   "cell_type": "code",
   "execution_count": 4,
   "metadata": {},
   "outputs": [
    {
     "name": "stdout",
     "output_type": "stream",
     "text": [
      "    col1  col2  media_col2\n",
      "0      a     2         2.0\n",
      "1   None     3         NaN\n",
      "2   None     2         NaN\n",
      "3      b     3         2.0\n",
      "4   None     2         NaN\n",
      "5   None     2         NaN\n",
      "6   None     2         NaN\n",
      "7      a     1         2.0\n",
      "8   None     2         NaN\n",
      "9   None     2         NaN\n",
      "10     c     2         2.0\n"
     ]
    }
   ],
   "source": [
    "import pandas as pd\n",
    "import numpy as np\n",
    "\n",
    "# Definisci le colonne\n",
    "col1 = ['a', None, None, 'b', None, None, None, 'a', None, None, 'c']\n",
    "col2 = [2, 3, 2, 3, 2, 2, 2, 1, 2, 2, 2]\n",
    "\n",
    "# Crea il dataframe\n",
    "df = pd.DataFrame({'col1': col1, 'col2': col2})\n",
    "\n",
    "# Aggiungi una colonna per la media degli intervalli tra valori non nulli di col1\n",
    "df['media_col2'] = df.apply(lambda row: np.nan if row['col1'] is None else np.nanmean(df.loc[(df['col1'].notnull()) & (df.index >= df.index[df['col1'].notnull()][0]) & (df.index <= df.index[df['col1'].notnull()][-1]), 'col2']), axis=1)\n",
    "\n",
    "# Visualizza il dataframe risultante\n",
    "print(df)"
   ]
  }
 ],
 "metadata": {
  "kernelspec": {
   "display_name": "base",
   "language": "python",
   "name": "python3"
  },
  "language_info": {
   "codemirror_mode": {
    "name": "ipython",
    "version": 3
   },
   "file_extension": ".py",
   "mimetype": "text/x-python",
   "name": "python",
   "nbconvert_exporter": "python",
   "pygments_lexer": "ipython3",
   "version": "3.11.4"
  }
 },
 "nbformat": 4,
 "nbformat_minor": 2
}
